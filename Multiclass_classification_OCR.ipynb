{
  "nbformat": 4,
  "nbformat_minor": 0,
  "metadata": {
    "colab": {
      "provenance": []
    },
    "kernelspec": {
      "name": "python3",
      "display_name": "Python 3"
    },
    "language_info": {
      "name": "python"
    }
  },
  "cells": [
    {
      "cell_type": "code",
      "execution_count": 10,
      "metadata": {
        "colab": {
          "base_uri": "https://localhost:8080/",
          "height": 0
        },
        "id": "3V3yyv1tBCxr",
        "outputId": "73d0043b-78f0-42c9-80e1-c58a58a1cd17"
      },
      "outputs": [
        {
          "output_type": "stream",
          "name": "stdout",
          "text": [
            "Epoch 1/10\n",
            "500/500 [==============================] - 2s 3ms/step - loss: 2.0763 - accuracy: 0.4239 - val_loss: 1.2455 - val_accuracy: 0.6860\n",
            "Epoch 2/10\n",
            "500/500 [==============================] - 2s 4ms/step - loss: 1.1109 - accuracy: 0.6972 - val_loss: 1.0006 - val_accuracy: 0.7310\n",
            "Epoch 3/10\n",
            "500/500 [==============================] - 1s 3ms/step - loss: 0.9322 - accuracy: 0.7434 - val_loss: 0.8913 - val_accuracy: 0.7575\n",
            "Epoch 4/10\n",
            "500/500 [==============================] - 1s 2ms/step - loss: 0.8285 - accuracy: 0.7654 - val_loss: 0.8136 - val_accuracy: 0.7768\n",
            "Epoch 5/10\n",
            "500/500 [==============================] - 1s 3ms/step - loss: 0.7572 - accuracy: 0.7825 - val_loss: 0.7468 - val_accuracy: 0.7853\n",
            "Epoch 6/10\n",
            "500/500 [==============================] - 1s 3ms/step - loss: 0.7097 - accuracy: 0.7936 - val_loss: 0.7040 - val_accuracy: 0.7860\n",
            "Epoch 7/10\n",
            "500/500 [==============================] - 1s 2ms/step - loss: 0.6605 - accuracy: 0.8077 - val_loss: 0.6451 - val_accuracy: 0.8108\n",
            "Epoch 8/10\n",
            "500/500 [==============================] - 1s 2ms/step - loss: 0.6248 - accuracy: 0.8123 - val_loss: 0.6172 - val_accuracy: 0.8183\n",
            "Epoch 9/10\n",
            "500/500 [==============================] - 1s 2ms/step - loss: 0.5941 - accuracy: 0.8210 - val_loss: 0.6015 - val_accuracy: 0.8173\n",
            "Epoch 10/10\n",
            "500/500 [==============================] - 1s 3ms/step - loss: 0.5645 - accuracy: 0.8273 - val_loss: 0.5638 - val_accuracy: 0.8342\n",
            "125/125 [==============================] - 0s 3ms/step - loss: 0.5638 - accuracy: 0.8342\n"
          ]
        },
        {
          "output_type": "stream",
          "name": "stderr",
          "text": [
            "WARNING:tensorflow:5 out of the last 7 calls to <function Model.make_predict_function.<locals>.predict_function at 0x7f0fe4412b90> triggered tf.function retracing. Tracing is expensive and the excessive number of tracings could be due to (1) creating @tf.function repeatedly in a loop, (2) passing tensors with different shapes, (3) passing Python objects instead of tensors. For (1), please define your @tf.function outside of the loop. For (2), @tf.function has reduce_retracing=True option that can avoid unnecessary retracing. For (3), please refer to https://www.tensorflow.org/guide/function#controlling_retracing and https://www.tensorflow.org/api_docs/python/tf/function for  more details.\n"
          ]
        },
        {
          "output_type": "stream",
          "name": "stdout",
          "text": [
            "Test Loss: 0.5638\n",
            "Test Accuracy: 0.8342\n",
            "1/1 [==============================] - 0s 100ms/step\n",
            "Example 1 Prediction: A\n",
            "Example 2 Prediction: W\n",
            "Example 3 Prediction: A\n"
          ]
        }
      ],
      "source": [
        "import pandas as pd\n",
        "import numpy as np\n",
        "from sklearn.model_selection import train_test_split\n",
        "from sklearn.preprocessing import LabelEncoder\n",
        "from tensorflow.keras.models import Sequential\n",
        "from tensorflow.keras.layers import Dense\n",
        "from tensorflow.keras.utils import to_categorical\n",
        "\n",
        "# Load the OCR letter recognition dataset\n",
        "url = \"https://archive.ics.uci.edu/ml/machine-learning-databases/letter-recognition/letter-recognition.data\"\n",
        "column_names = ['letter', 'x-box', 'y-box', 'width', 'height', 'onpix', 'x-bar', 'y-bar', 'x2bar', 'y2bar', 'xybar', 'x2ybr', 'xy2br', 'x-ege', 'xegvy', 'y-ege', 'yegvx']\n",
        "data = pd.read_csv(url, names=column_names)\n",
        "\n",
        "# Split the data into features and labels\n",
        "X = data.drop('letter', axis=1)\n",
        "y = data['letter']\n",
        "\n",
        "# Convert labels to integers using LabelEncoder\n",
        "label_encoder = LabelEncoder()\n",
        "y = label_encoder.fit_transform(y)\n",
        "\n",
        "# Split the data into training and testing sets\n",
        "X_train, X_test, y_train, y_test = train_test_split(X, y, test_size=0.2, random_state=42)\n",
        "\n",
        "# Convert the labels to one-hot encoding\n",
        "y_train = to_categorical(y_train)\n",
        "y_test = to_categorical(y_test)\n",
        "\n",
        "# Create a deep neural network model\n",
        "model = Sequential()\n",
        "model.add(Dense(64, input_dim=X_train.shape[1], activation='relu'))\n",
        "model.add(Dense(32, activation='relu'))\n",
        "model.add(Dense(len(label_encoder.classes_), activation='softmax'))\n",
        "\n",
        "# Compile the model\n",
        "model.compile(loss='categorical_crossentropy', optimizer='adam', metrics=['accuracy'])\n",
        "\n",
        "# Train the model\n",
        "model.fit(X_train, y_train, epochs=10, batch_size=32, validation_data=(X_test, y_test))\n",
        "\n",
        "# Evaluate the model\n",
        "loss, accuracy = model.evaluate(X_test, y_test)\n",
        "print(f\"Test Loss: {loss:.4f}\")\n",
        "print(f\"Test Accuracy: {accuracy:.4f}\")\n",
        "\n"
      ]
    },
    {
      "cell_type": "code",
      "source": [
        "# Manual input examples\n",
        "examples = np.array([[7,7,2,5,4,6,6,6,5,13,12,13,2,9,3,7],[6,9,6,7,5,6,11,3,7,11,9,5,2,12,2,4],\n",
        "[2,3,4,2,1,8,7,2,6,10,6,8,1,9,5,8],[4,9,6,6,2,9,5,3,1,8,1,8,2,7,2,8]])\n",
        "\n",
        "# Make predictions\n",
        "predictions = model.predict(examples)\n",
        "predicted_letters = label_encoder.inverse_transform(np.argmax(predictions, axis=1))\n",
        "\n",
        "# Display predictions\n",
        "for i in range(len(examples)):\n",
        "    print(f\"Example {i+1} Prediction: {predicted_letters[i]}\")\n"
      ],
      "metadata": {
        "colab": {
          "base_uri": "https://localhost:8080/",
          "height": 0
        },
        "id": "5F9u-0Z3BquB",
        "outputId": "bf8b8911-1cd4-4c0f-dfa9-71ca097f3ce5"
      },
      "execution_count": 15,
      "outputs": [
        {
          "output_type": "stream",
          "name": "stdout",
          "text": [
            "1/1 [==============================] - 0s 45ms/step\n",
            "Example 1 Prediction: C\n",
            "Example 2 Prediction: T\n",
            "Example 3 Prediction: S\n",
            "Example 4 Prediction: A\n"
          ]
        }
      ]
    },
    {
      "cell_type": "code",
      "source": [],
      "metadata": {
        "id": "7-gf9yffFP2y"
      },
      "execution_count": 10,
      "outputs": []
    },
    {
      "cell_type": "code",
      "source": [],
      "metadata": {
        "id": "OYc34ea8GI4M"
      },
      "execution_count": 10,
      "outputs": []
    },
    {
      "cell_type": "code",
      "source": [],
      "metadata": {
        "id": "loFSZOydGeON"
      },
      "execution_count": 10,
      "outputs": []
    }
  ]
}